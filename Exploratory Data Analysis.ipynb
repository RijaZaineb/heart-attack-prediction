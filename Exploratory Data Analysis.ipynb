{
 "cells": [
  {
   "cell_type": "code",
   "execution_count": null,
   "id": "9843216e",
   "metadata": {},
   "outputs": [],
   "source": [
    "#import libraries\n",
    "import numpy as np\n",
    "import pandas as pd\n",
    "from sklearn.ensemble import RandomForestClassifier\n",
    "from sklearn import metrics\n",
    "import seaborn as sn\n",
    "import matplotlib.pyplot as plt\n",
    "from sklearn.metrics import classification_report\n",
    "from sklearn.model_selection import train_test_split\n",
    "from sklearn.preprocessing import StandardScaler"
   ]
  },
  {
   "attachments": {},
   "cell_type": "markdown",
   "id": "c1150a7c",
   "metadata": {},
   "source": [
    "<b>Data Content</b>\n",
    "\n",
    "303 rows and 14 columns\n",
    "\n",
    "<b>6 numeric attributes</b>\n",
    "\n",
    "age: age \n",
    "\n",
    "trtbps: resting blood pressure\n",
    "\n",
    "chol: cholesterol \n",
    "\n",
    "thalach: maximum heart rate achieved\n",
    "\n",
    "oldpeak: ST depression induced by exercise relative to rest\n",
    "\n",
    "ca: number of major vessels (0-4) colored by flourosopy\n",
    "\n",
    "<b>7 categorical attributes</b> \n",
    "\n",
    "sex: sex (0=female, 1=male) \n",
    "\n",
    "cp: chest pain type (asymptomatic, typical angina, atypical angina, non anginal pain)\n",
    "\n",
    "fbs: fasting blood sugar (>120 : 1, <=120 : 0)\n",
    "\n",
    "restecg: resting electrocardiographic results (normal, ST-T wave abnormality, left ventricular hypertrophy)\n",
    "\n",
    "exang: exercise induced angina (1 = yes; 0 = no)\n",
    "\n",
    "slp: slope (1 – 3)\n",
    "\n",
    "thall: thallium stress test (normal, fixed defect, reversible defect)\n",
    "\n",
    "<b>1 target variable</b> \n",
    "\n",
    "output (0 = low risk, 1 = high risk)\n"
   ]
  },
  {
   "cell_type": "code",
   "execution_count": null,
   "id": "7ed76bbe",
   "metadata": {},
   "outputs": [],
   "source": [
    "# read data \n",
    "df = pd.read_csv(\"heart.csv\")"
   ]
  },
  {
   "cell_type": "code",
   "execution_count": null,
   "id": "ffe11083",
   "metadata": {},
   "outputs": [],
   "source": [
    "df.head()"
   ]
  },
  {
   "cell_type": "code",
   "execution_count": null,
   "id": "7872d04a",
   "metadata": {},
   "outputs": [],
   "source": [
    "df.describe()"
   ]
  },
  {
   "cell_type": "code",
   "execution_count": null,
   "id": "41a7aae0",
   "metadata": {},
   "outputs": [],
   "source": [
    "df.info()"
   ]
  },
  {
   "cell_type": "markdown",
   "id": "c7622509",
   "metadata": {},
   "source": [
    "<b>Missing Values</b>"
   ]
  },
  {
   "cell_type": "code",
   "execution_count": null,
   "id": "d9c73fba",
   "metadata": {},
   "outputs": [],
   "source": [
    "# missing value\n",
    "df.isnull().sum()"
   ]
  },
  {
   "cell_type": "markdown",
   "id": "b217242b",
   "metadata": {},
   "source": [
    "<b>Unique Values</b>"
   ]
  },
  {
   "cell_type": "code",
   "execution_count": null,
   "id": "59674662",
   "metadata": {},
   "outputs": [],
   "source": [
    "for i in list(df.columns):\n",
    "    print(\"{} -- {}\".format(i, df[i].value_counts().shape[0]))"
   ]
  },
  {
   "cell_type": "markdown",
   "id": "166ad9fe",
   "metadata": {},
   "source": [
    "<b>Categorical Feature Analysis</b>"
   ]
  },
  {
   "cell_type": "code",
   "execution_count": null,
   "id": "b6fc6540",
   "metadata": {},
   "outputs": [],
   "source": [
    "categorical_list = [\"sex\", \"cp\",\"fbs\",\"restecg\",\"exng\",\"slp\",\"caa\",\"thall\",\"output\"]\n",
    "\n",
    "\n",
    "df_categoric = df.loc[:, categorical_list]\n",
    "for i in categorical_list:\n",
    "    plt.figure()\n",
    "    sn.countplot(x = i, data = df_categoric, hue = \"output\")\n",
    "    plt.title(i)"
   ]
  },
  {
   "cell_type": "markdown",
   "id": "f67970e4",
   "metadata": {},
   "source": [
    "<b>Numeric Feature Analysis</b>"
   ]
  },
  {
   "cell_type": "code",
   "execution_count": null,
   "id": "49392bdf",
   "metadata": {},
   "outputs": [],
   "source": [
    "numeric_list = [\"age\", \"trtbps\",\"chol\",\"thalachh\",\"oldpeak\",\"output\"]\n",
    "df_numeric = df.loc[:, numeric_list]\n",
    "sn.pairplot(df_numeric, hue = \"output\", diag_kind = \"kde\")\n",
    "plt.show()"
   ]
  },
  {
   "cell_type": "markdown",
   "id": "b90ca062",
   "metadata": {},
   "source": [
    "<b>Correlation Analysis</b>"
   ]
  },
  {
   "cell_type": "code",
   "execution_count": null,
   "id": "806dfef4",
   "metadata": {},
   "outputs": [],
   "source": [
    "df.corr()"
   ]
  },
  {
   "cell_type": "code",
   "execution_count": null,
   "id": "51d3992e",
   "metadata": {},
   "outputs": [],
   "source": [
    "plt.figure(figsize = (14,10))\n",
    "sn.heatmap(df.corr(method='spearman'), annot = True, fmt = \".1f\", linewidths = .7)\n",
    "plt.show()"
   ]
  },
  {
   "cell_type": "code",
   "execution_count": null,
   "id": "7ee18bbf",
   "metadata": {},
   "outputs": [],
   "source": [
    "plt.figure(figsize = (14,10))\n",
    "sn.heatmap(df_numeric.corr(), annot = True, fmt = \".1f\", linewidths = .7)\n",
    "plt.show()"
   ]
  },
  {
   "cell_type": "code",
   "execution_count": null,
   "id": "fec62b28",
   "metadata": {},
   "outputs": [],
   "source": [
    "plt.figure(figsize = (14,10))\n",
    "sn.heatmap(df_categoric.corr(method='spearman'), annot = True, fmt = \".1f\", linewidths = .7)\n",
    "plt.show()"
   ]
  }
 ],
 "metadata": {
  "kernelspec": {
   "display_name": "Python 3 (ipykernel)",
   "language": "python",
   "name": "python3"
  },
  "language_info": {
   "codemirror_mode": {
    "name": "ipython",
    "version": 3
   },
   "file_extension": ".py",
   "mimetype": "text/x-python",
   "name": "python",
   "nbconvert_exporter": "python",
   "pygments_lexer": "ipython3",
   "version": "3.9.12"
  }
 },
 "nbformat": 4,
 "nbformat_minor": 5
}
